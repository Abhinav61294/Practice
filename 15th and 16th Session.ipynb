{
 "cells": [
  {
   "cell_type": "code",
   "execution_count": 2,
   "id": "274b9ce9",
   "metadata": {},
   "outputs": [],
   "source": [
    "#Step-1 Importing Libraries\n",
    "import matplotlib.pyplot as plt\n",
    "import pandas as pd"
   ]
  },
  {
   "cell_type": "code",
   "execution_count": 3,
   "id": "9bc496db",
   "metadata": {},
   "outputs": [],
   "source": [
    "#Step-2 Creating Dataset\n",
    "from random import choice\n",
    "size =[]\n",
    "price =[]\n",
    "for i in range(16,46):\n",
    "    size.append(i + choice([1.2,2.3,-0.8,-2.4]))\n",
    "    price.append(23*i + 2 + choice([1.6,2.1,-0.4,-0.9]))\n",
    "dataset = pd.DataFrame(zip(size,price), columns=[\"Size\",\"Price\"]) #or use columns = \"Size Price\".split()"
   ]
  },
  {
   "cell_type": "code",
   "execution_count": 4,
   "id": "3a8480c9",
   "metadata": {},
   "outputs": [
    {
     "data": {
      "text/html": [
       "<div>\n",
       "<style scoped>\n",
       "    .dataframe tbody tr th:only-of-type {\n",
       "        vertical-align: middle;\n",
       "    }\n",
       "\n",
       "    .dataframe tbody tr th {\n",
       "        vertical-align: top;\n",
       "    }\n",
       "\n",
       "    .dataframe thead th {\n",
       "        text-align: right;\n",
       "    }\n",
       "</style>\n",
       "<table border=\"1\" class=\"dataframe\">\n",
       "  <thead>\n",
       "    <tr style=\"text-align: right;\">\n",
       "      <th></th>\n",
       "      <th>Size</th>\n",
       "      <th>Price</th>\n",
       "    </tr>\n",
       "  </thead>\n",
       "  <tbody>\n",
       "    <tr>\n",
       "      <th>0</th>\n",
       "      <td>13.6</td>\n",
       "      <td>369.1</td>\n",
       "    </tr>\n",
       "    <tr>\n",
       "      <th>1</th>\n",
       "      <td>19.3</td>\n",
       "      <td>395.1</td>\n",
       "    </tr>\n",
       "    <tr>\n",
       "      <th>2</th>\n",
       "      <td>15.6</td>\n",
       "      <td>418.1</td>\n",
       "    </tr>\n",
       "    <tr>\n",
       "      <th>3</th>\n",
       "      <td>16.6</td>\n",
       "      <td>438.1</td>\n",
       "    </tr>\n",
       "    <tr>\n",
       "      <th>4</th>\n",
       "      <td>19.2</td>\n",
       "      <td>464.1</td>\n",
       "    </tr>\n",
       "    <tr>\n",
       "      <th>5</th>\n",
       "      <td>23.3</td>\n",
       "      <td>487.1</td>\n",
       "    </tr>\n",
       "    <tr>\n",
       "      <th>6</th>\n",
       "      <td>19.6</td>\n",
       "      <td>507.6</td>\n",
       "    </tr>\n",
       "    <tr>\n",
       "      <th>7</th>\n",
       "      <td>20.6</td>\n",
       "      <td>532.6</td>\n",
       "    </tr>\n",
       "    <tr>\n",
       "      <th>8</th>\n",
       "      <td>26.3</td>\n",
       "      <td>556.1</td>\n",
       "    </tr>\n",
       "    <tr>\n",
       "      <th>9</th>\n",
       "      <td>27.3</td>\n",
       "      <td>576.1</td>\n",
       "    </tr>\n",
       "    <tr>\n",
       "      <th>10</th>\n",
       "      <td>25.2</td>\n",
       "      <td>599.6</td>\n",
       "    </tr>\n",
       "    <tr>\n",
       "      <th>11</th>\n",
       "      <td>29.3</td>\n",
       "      <td>624.6</td>\n",
       "    </tr>\n",
       "    <tr>\n",
       "      <th>12</th>\n",
       "      <td>29.2</td>\n",
       "      <td>648.1</td>\n",
       "    </tr>\n",
       "    <tr>\n",
       "      <th>13</th>\n",
       "      <td>26.6</td>\n",
       "      <td>668.1</td>\n",
       "    </tr>\n",
       "    <tr>\n",
       "      <th>14</th>\n",
       "      <td>29.2</td>\n",
       "      <td>691.6</td>\n",
       "    </tr>\n",
       "    <tr>\n",
       "      <th>15</th>\n",
       "      <td>28.6</td>\n",
       "      <td>716.6</td>\n",
       "    </tr>\n",
       "    <tr>\n",
       "      <th>16</th>\n",
       "      <td>29.6</td>\n",
       "      <td>739.6</td>\n",
       "    </tr>\n",
       "    <tr>\n",
       "      <th>17</th>\n",
       "      <td>34.2</td>\n",
       "      <td>762.6</td>\n",
       "    </tr>\n",
       "    <tr>\n",
       "      <th>18</th>\n",
       "      <td>35.2</td>\n",
       "      <td>786.1</td>\n",
       "    </tr>\n",
       "    <tr>\n",
       "      <th>19</th>\n",
       "      <td>36.2</td>\n",
       "      <td>809.1</td>\n",
       "    </tr>\n",
       "    <tr>\n",
       "      <th>20</th>\n",
       "      <td>37.2</td>\n",
       "      <td>829.6</td>\n",
       "    </tr>\n",
       "    <tr>\n",
       "      <th>21</th>\n",
       "      <td>34.6</td>\n",
       "      <td>852.1</td>\n",
       "    </tr>\n",
       "    <tr>\n",
       "      <th>22</th>\n",
       "      <td>39.2</td>\n",
       "      <td>878.1</td>\n",
       "    </tr>\n",
       "    <tr>\n",
       "      <th>23</th>\n",
       "      <td>41.3</td>\n",
       "      <td>898.1</td>\n",
       "    </tr>\n",
       "    <tr>\n",
       "      <th>24</th>\n",
       "      <td>39.2</td>\n",
       "      <td>924.1</td>\n",
       "    </tr>\n",
       "    <tr>\n",
       "      <th>25</th>\n",
       "      <td>42.2</td>\n",
       "      <td>947.1</td>\n",
       "    </tr>\n",
       "    <tr>\n",
       "      <th>26</th>\n",
       "      <td>44.3</td>\n",
       "      <td>969.6</td>\n",
       "    </tr>\n",
       "    <tr>\n",
       "      <th>27</th>\n",
       "      <td>45.3</td>\n",
       "      <td>992.6</td>\n",
       "    </tr>\n",
       "    <tr>\n",
       "      <th>28</th>\n",
       "      <td>45.2</td>\n",
       "      <td>1015.6</td>\n",
       "    </tr>\n",
       "    <tr>\n",
       "      <th>29</th>\n",
       "      <td>42.6</td>\n",
       "      <td>1038.6</td>\n",
       "    </tr>\n",
       "  </tbody>\n",
       "</table>\n",
       "</div>"
      ],
      "text/plain": [
       "    Size   Price\n",
       "0   13.6   369.1\n",
       "1   19.3   395.1\n",
       "2   15.6   418.1\n",
       "3   16.6   438.1\n",
       "4   19.2   464.1\n",
       "5   23.3   487.1\n",
       "6   19.6   507.6\n",
       "7   20.6   532.6\n",
       "8   26.3   556.1\n",
       "9   27.3   576.1\n",
       "10  25.2   599.6\n",
       "11  29.3   624.6\n",
       "12  29.2   648.1\n",
       "13  26.6   668.1\n",
       "14  29.2   691.6\n",
       "15  28.6   716.6\n",
       "16  29.6   739.6\n",
       "17  34.2   762.6\n",
       "18  35.2   786.1\n",
       "19  36.2   809.1\n",
       "20  37.2   829.6\n",
       "21  34.6   852.1\n",
       "22  39.2   878.1\n",
       "23  41.3   898.1\n",
       "24  39.2   924.1\n",
       "25  42.2   947.1\n",
       "26  44.3   969.6\n",
       "27  45.3   992.6\n",
       "28  45.2  1015.6\n",
       "29  42.6  1038.6"
      ]
     },
     "execution_count": 4,
     "metadata": {},
     "output_type": "execute_result"
    }
   ],
   "source": [
    "dataset"
   ]
  },
  {
   "cell_type": "code",
   "execution_count": 5,
   "id": "3e18d0fe",
   "metadata": {},
   "outputs": [],
   "source": [
    "dataset.to_csv(\"15th Session SvsP.csv\", index=False)"
   ]
  },
  {
   "cell_type": "code",
   "execution_count": 6,
   "id": "3709cbbd",
   "metadata": {},
   "outputs": [
    {
     "data": {
      "text/html": [
       "<div>\n",
       "<style scoped>\n",
       "    .dataframe tbody tr th:only-of-type {\n",
       "        vertical-align: middle;\n",
       "    }\n",
       "\n",
       "    .dataframe tbody tr th {\n",
       "        vertical-align: top;\n",
       "    }\n",
       "\n",
       "    .dataframe thead th {\n",
       "        text-align: right;\n",
       "    }\n",
       "</style>\n",
       "<table border=\"1\" class=\"dataframe\">\n",
       "  <thead>\n",
       "    <tr style=\"text-align: right;\">\n",
       "      <th></th>\n",
       "      <th>Size</th>\n",
       "      <th>Price</th>\n",
       "    </tr>\n",
       "  </thead>\n",
       "  <tbody>\n",
       "    <tr>\n",
       "      <th>0</th>\n",
       "      <td>13.6</td>\n",
       "      <td>369.1</td>\n",
       "    </tr>\n",
       "    <tr>\n",
       "      <th>1</th>\n",
       "      <td>19.3</td>\n",
       "      <td>395.1</td>\n",
       "    </tr>\n",
       "    <tr>\n",
       "      <th>2</th>\n",
       "      <td>15.6</td>\n",
       "      <td>418.1</td>\n",
       "    </tr>\n",
       "    <tr>\n",
       "      <th>3</th>\n",
       "      <td>16.6</td>\n",
       "      <td>438.1</td>\n",
       "    </tr>\n",
       "    <tr>\n",
       "      <th>4</th>\n",
       "      <td>19.2</td>\n",
       "      <td>464.1</td>\n",
       "    </tr>\n",
       "    <tr>\n",
       "      <th>5</th>\n",
       "      <td>23.3</td>\n",
       "      <td>487.1</td>\n",
       "    </tr>\n",
       "    <tr>\n",
       "      <th>6</th>\n",
       "      <td>19.6</td>\n",
       "      <td>507.6</td>\n",
       "    </tr>\n",
       "    <tr>\n",
       "      <th>7</th>\n",
       "      <td>20.6</td>\n",
       "      <td>532.6</td>\n",
       "    </tr>\n",
       "    <tr>\n",
       "      <th>8</th>\n",
       "      <td>26.3</td>\n",
       "      <td>556.1</td>\n",
       "    </tr>\n",
       "    <tr>\n",
       "      <th>9</th>\n",
       "      <td>27.3</td>\n",
       "      <td>576.1</td>\n",
       "    </tr>\n",
       "    <tr>\n",
       "      <th>10</th>\n",
       "      <td>25.2</td>\n",
       "      <td>599.6</td>\n",
       "    </tr>\n",
       "    <tr>\n",
       "      <th>11</th>\n",
       "      <td>29.3</td>\n",
       "      <td>624.6</td>\n",
       "    </tr>\n",
       "    <tr>\n",
       "      <th>12</th>\n",
       "      <td>29.2</td>\n",
       "      <td>648.1</td>\n",
       "    </tr>\n",
       "    <tr>\n",
       "      <th>13</th>\n",
       "      <td>26.6</td>\n",
       "      <td>668.1</td>\n",
       "    </tr>\n",
       "    <tr>\n",
       "      <th>14</th>\n",
       "      <td>29.2</td>\n",
       "      <td>691.6</td>\n",
       "    </tr>\n",
       "    <tr>\n",
       "      <th>15</th>\n",
       "      <td>28.6</td>\n",
       "      <td>716.6</td>\n",
       "    </tr>\n",
       "    <tr>\n",
       "      <th>16</th>\n",
       "      <td>29.6</td>\n",
       "      <td>739.6</td>\n",
       "    </tr>\n",
       "    <tr>\n",
       "      <th>17</th>\n",
       "      <td>34.2</td>\n",
       "      <td>762.6</td>\n",
       "    </tr>\n",
       "    <tr>\n",
       "      <th>18</th>\n",
       "      <td>35.2</td>\n",
       "      <td>786.1</td>\n",
       "    </tr>\n",
       "    <tr>\n",
       "      <th>19</th>\n",
       "      <td>36.2</td>\n",
       "      <td>809.1</td>\n",
       "    </tr>\n",
       "    <tr>\n",
       "      <th>20</th>\n",
       "      <td>37.2</td>\n",
       "      <td>829.6</td>\n",
       "    </tr>\n",
       "    <tr>\n",
       "      <th>21</th>\n",
       "      <td>34.6</td>\n",
       "      <td>852.1</td>\n",
       "    </tr>\n",
       "    <tr>\n",
       "      <th>22</th>\n",
       "      <td>39.2</td>\n",
       "      <td>878.1</td>\n",
       "    </tr>\n",
       "    <tr>\n",
       "      <th>23</th>\n",
       "      <td>41.3</td>\n",
       "      <td>898.1</td>\n",
       "    </tr>\n",
       "    <tr>\n",
       "      <th>24</th>\n",
       "      <td>39.2</td>\n",
       "      <td>924.1</td>\n",
       "    </tr>\n",
       "    <tr>\n",
       "      <th>25</th>\n",
       "      <td>42.2</td>\n",
       "      <td>947.1</td>\n",
       "    </tr>\n",
       "    <tr>\n",
       "      <th>26</th>\n",
       "      <td>44.3</td>\n",
       "      <td>969.6</td>\n",
       "    </tr>\n",
       "    <tr>\n",
       "      <th>27</th>\n",
       "      <td>45.3</td>\n",
       "      <td>992.6</td>\n",
       "    </tr>\n",
       "    <tr>\n",
       "      <th>28</th>\n",
       "      <td>45.2</td>\n",
       "      <td>1015.6</td>\n",
       "    </tr>\n",
       "    <tr>\n",
       "      <th>29</th>\n",
       "      <td>42.6</td>\n",
       "      <td>1038.6</td>\n",
       "    </tr>\n",
       "  </tbody>\n",
       "</table>\n",
       "</div>"
      ],
      "text/plain": [
       "    Size   Price\n",
       "0   13.6   369.1\n",
       "1   19.3   395.1\n",
       "2   15.6   418.1\n",
       "3   16.6   438.1\n",
       "4   19.2   464.1\n",
       "5   23.3   487.1\n",
       "6   19.6   507.6\n",
       "7   20.6   532.6\n",
       "8   26.3   556.1\n",
       "9   27.3   576.1\n",
       "10  25.2   599.6\n",
       "11  29.3   624.6\n",
       "12  29.2   648.1\n",
       "13  26.6   668.1\n",
       "14  29.2   691.6\n",
       "15  28.6   716.6\n",
       "16  29.6   739.6\n",
       "17  34.2   762.6\n",
       "18  35.2   786.1\n",
       "19  36.2   809.1\n",
       "20  37.2   829.6\n",
       "21  34.6   852.1\n",
       "22  39.2   878.1\n",
       "23  41.3   898.1\n",
       "24  39.2   924.1\n",
       "25  42.2   947.1\n",
       "26  44.3   969.6\n",
       "27  45.3   992.6\n",
       "28  45.2  1015.6\n",
       "29  42.6  1038.6"
      ]
     },
     "execution_count": 6,
     "metadata": {},
     "output_type": "execute_result"
    }
   ],
   "source": [
    "df=pd.read_csv(\"15th Session SvsP.csv\")\n",
    "df"
   ]
  },
  {
   "cell_type": "code",
   "execution_count": 7,
   "id": "20e51cf1",
   "metadata": {},
   "outputs": [
    {
     "data": {
      "text/plain": [
       "pandas.core.frame.DataFrame"
      ]
     },
     "execution_count": 7,
     "metadata": {},
     "output_type": "execute_result"
    }
   ],
   "source": [
    "type(df)"
   ]
  },
  {
   "cell_type": "code",
   "execution_count": 8,
   "id": "6cc54505",
   "metadata": {},
   "outputs": [],
   "source": [
    "x=df.iloc[  :  ,  : -1].values\n",
    "y=df.iloc[  :  ,    -1].values"
   ]
  },
  {
   "cell_type": "code",
   "execution_count": 9,
   "id": "100e6cfe",
   "metadata": {},
   "outputs": [
    {
     "name": "stdout",
     "output_type": "stream",
     "text": [
      "[[13.6]\n",
      " [19.3]\n",
      " [15.6]\n",
      " [16.6]\n",
      " [19.2]\n",
      " [23.3]\n",
      " [19.6]\n",
      " [20.6]\n",
      " [26.3]\n",
      " [27.3]\n",
      " [25.2]\n",
      " [29.3]\n",
      " [29.2]\n",
      " [26.6]\n",
      " [29.2]\n",
      " [28.6]\n",
      " [29.6]\n",
      " [34.2]\n",
      " [35.2]\n",
      " [36.2]\n",
      " [37.2]\n",
      " [34.6]\n",
      " [39.2]\n",
      " [41.3]\n",
      " [39.2]\n",
      " [42.2]\n",
      " [44.3]\n",
      " [45.3]\n",
      " [45.2]\n",
      " [42.6]]\n",
      "[ 369.1  395.1  418.1  438.1  464.1  487.1  507.6  532.6  556.1  576.1\n",
      "  599.6  624.6  648.1  668.1  691.6  716.6  739.6  762.6  786.1  809.1\n",
      "  829.6  852.1  878.1  898.1  924.1  947.1  969.6  992.6 1015.6 1038.6]\n"
     ]
    }
   ],
   "source": [
    "print(x) #size of 30 houses\n",
    "print(y) #price of 30 houses"
   ]
  },
  {
   "cell_type": "code",
   "execution_count": 11,
   "id": "71db3eef",
   "metadata": {},
   "outputs": [],
   "source": [
    "# Step-3 Splitting the Dataset \n",
    "from sklearn.model_selection import train_test_split\n",
    "x_train, x_test, y_train, y_test = train_test_split(x,y, test_size=0.33)"
   ]
  },
  {
   "cell_type": "code",
   "execution_count": 12,
   "id": "3b9903f3",
   "metadata": {},
   "outputs": [
    {
     "name": "stdout",
     "output_type": "stream",
     "text": [
      "(20, 1)\n",
      "[[39.2]\n",
      " [45.2]\n",
      " [19.3]\n",
      " [27.3]\n",
      " [26.3]\n",
      " [29.6]\n",
      " [19.2]\n",
      " [25.2]\n",
      " [20.6]\n",
      " [44.3]\n",
      " [41.3]\n",
      " [45.3]\n",
      " [37.2]\n",
      " [16.6]\n",
      " [34.6]\n",
      " [28.6]\n",
      " [29.2]\n",
      " [23.3]\n",
      " [42.6]\n",
      " [39.2]]\n"
     ]
    }
   ],
   "source": [
    "print(x_train.shape)\n",
    "print(x_train)"
   ]
  },
  {
   "cell_type": "code",
   "execution_count": 14,
   "id": "c781a54c",
   "metadata": {},
   "outputs": [
    {
     "name": "stdout",
     "output_type": "stream",
     "text": [
      "(10, 1)\n",
      "[[19.6]\n",
      " [26.6]\n",
      " [42.2]\n",
      " [34.2]\n",
      " [36.2]\n",
      " [29.3]\n",
      " [13.6]\n",
      " [15.6]\n",
      " [35.2]\n",
      " [29.2]]\n"
     ]
    }
   ],
   "source": [
    "print(x_test.shape)\n",
    "print(x_test)"
   ]
  },
  {
   "cell_type": "code",
   "execution_count": 15,
   "id": "6add9275",
   "metadata": {},
   "outputs": [
    {
     "name": "stdout",
     "output_type": "stream",
     "text": [
      "(20,)\n",
      "[ 924.1 1015.6  395.1  576.1  556.1  739.6  464.1  599.6  532.6  969.6\n",
      "  898.1  992.6  829.6  438.1  852.1  716.6  691.6  487.1 1038.6  878.1]\n"
     ]
    }
   ],
   "source": [
    "print(y_train.shape)\n",
    "print(y_train)"
   ]
  },
  {
   "cell_type": "code",
   "execution_count": 17,
   "id": "850d461b",
   "metadata": {},
   "outputs": [
    {
     "name": "stdout",
     "output_type": "stream",
     "text": [
      "(10,)\n",
      "[507.6 668.1 947.1 762.6 809.1 624.6 369.1 418.1 786.1 648.1]\n"
     ]
    }
   ],
   "source": [
    "print(y_test.shape)\n",
    "print(y_test)"
   ]
  },
  {
   "cell_type": "code",
   "execution_count": 18,
   "id": "2a201ff2",
   "metadata": {},
   "outputs": [
    {
     "data": {
      "text/plain": [
       "LinearRegression()"
      ]
     },
     "execution_count": 18,
     "metadata": {},
     "output_type": "execute_result"
    }
   ],
   "source": [
    "# Step-4 Training Linear Regression\n",
    "from sklearn.linear_model import LinearRegression\n",
    "lrobj=LinearRegression()\n",
    "lrobj.fit(x_train,y_train)"
   ]
  },
  {
   "cell_type": "code",
   "execution_count": 19,
   "id": "2bd8349d",
   "metadata": {},
   "outputs": [
    {
     "data": {
      "text/plain": [
       "array([507.6, 668.1, 947.1, 762.6, 809.1, 624.6, 369.1, 418.1, 786.1,\n",
       "       648.1])"
      ]
     },
     "execution_count": 19,
     "metadata": {},
     "output_type": "execute_result"
    }
   ],
   "source": [
    "y_pred=lrobj.predict(x_test)\n",
    "y_test"
   ]
  },
  {
   "cell_type": "code",
   "execution_count": 20,
   "id": "37167cca",
   "metadata": {},
   "outputs": [
    {
     "data": {
      "text/plain": [
       "array([466.87872929, 618.89020347, 957.65863165, 783.93123258,\n",
       "       827.36308235, 677.52320066, 336.58317999, 380.01502976,\n",
       "       805.64715747, 675.35160817])"
      ]
     },
     "execution_count": 20,
     "metadata": {},
     "output_type": "execute_result"
    }
   ],
   "source": [
    "# Step-5 Prediction\n",
    "y_pred"
   ]
  },
  {
   "cell_type": "code",
   "execution_count": 21,
   "id": "02128d10",
   "metadata": {},
   "outputs": [
    {
     "data": {
      "text/plain": [
       "array([[19.6],\n",
       "       [26.6],\n",
       "       [42.2],\n",
       "       [34.2],\n",
       "       [36.2],\n",
       "       [29.3],\n",
       "       [13.6],\n",
       "       [15.6],\n",
       "       [35.2],\n",
       "       [29.2]])"
      ]
     },
     "execution_count": 21,
     "metadata": {},
     "output_type": "execute_result"
    }
   ],
   "source": [
    "x_test"
   ]
  },
  {
   "cell_type": "code",
   "execution_count": 24,
   "id": "3dcbbe51",
   "metadata": {},
   "outputs": [
    {
     "data": {
      "text/plain": [
       "array([783.93123258])"
      ]
     },
     "execution_count": 24,
     "metadata": {},
     "output_type": "execute_result"
    }
   ],
   "source": [
    "lrobj.predict([[34.2]]) #Put size as sample inside and output will be predicted prize"
   ]
  },
  {
   "cell_type": "code",
   "execution_count": 27,
   "id": "bec94b36",
   "metadata": {},
   "outputs": [
    {
     "data": {
      "text/plain": [
       "[<matplotlib.lines.Line2D at 0x2b56f8a1a00>]"
      ]
     },
     "execution_count": 27,
     "metadata": {},
     "output_type": "execute_result"
    },
    {
     "data": {
      "image/png": "[encoded data removed]",
      "text/plain": [
       "<Figure size 432x288 with 1 Axes>"
      ]
     },
     "metadata": {
      "needs_background": "light"
     },
     "output_type": "display_data"
    }
   ],
   "source": [
    "# Step-6 Visualizing\n",
    "plt.scatter(x_train,y_train)\n",
    "plt.xlabel(\"Size\")\n",
    "plt.ylabel(\"Price\")\n",
    "plt.plot(x_train,lrobj.predict(x_train),c=\"orange\")"
   ]
  },
  {
   "cell_type": "code",
   "execution_count": 29,
   "id": "1466945f",
   "metadata": {},
   "outputs": [
    {
     "data": {
      "text/plain": [
       "[<matplotlib.lines.Line2D at 0x2b56f980190>]"
      ]
     },
     "execution_count": 29,
     "metadata": {},
     "output_type": "execute_result"
    },
    {
     "data": {
      "image/png": "[encoded data removed]",
      "text/plain": [
       "<Figure size 432x288 with 1 Axes>"
      ]
     },
     "metadata": {
      "needs_background": "light"
     },
     "output_type": "display_data"
    }
   ],
   "source": [
    "plt.scatter(x_test,y_test)\n",
    "plt.xlabel(\"Size\")\n",
    "plt.ylabel(\"Price\")\n",
    "plt.plot(x_test,lrobj.predict(x_test),c=\"orange\")"
   ]
  },
  {
   "cell_type": "code",
   "execution_count": 30,
   "id": "30ffb008",
   "metadata": {},
   "outputs": [
    {
     "data": {
      "text/plain": [
       "31.040777036268764"
      ]
     },
     "execution_count": 30,
     "metadata": {},
     "output_type": "execute_result"
    }
   ],
   "source": [
    "# Accuracy check\n",
    "from sklearn.metrics import mean_absolute_error\n",
    "mean_absolute_error(y_test,y_pred)"
   ]
  }
 ],
 "metadata": {
  "kernelspec": {
   "display_name": "Python 3 (ipykernel)",
   "language": "python",
   "name": "python3"
  },
  "language_info": {
   "codemirror_mode": {
    "name": "ipython",
    "version": 3
   },
   "file_extension": ".py",
   "mimetype": "text/x-python",
   "name": "python",
   "nbconvert_exporter": "python",
   "pygments_lexer": "ipython3",
   "version": "3.9.7"
  }
 },
 "nbformat": 4,
 "nbformat_minor": 5
}
