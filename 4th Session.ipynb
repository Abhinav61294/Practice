{
 "cells": [
  {
   "cell_type": "code",
   "execution_count": 1,
   "id": "bf4ee900",
   "metadata": {},
   "outputs": [
    {
     "name": "stdout",
     "output_type": "stream",
     "text": [
      "12\n"
     ]
    }
   ],
   "source": [
    "# \\t has 1 unit length\n",
    "x=\"cr7\\tfootball\"\n",
    "print(len(x))"
   ]
  },
  {
   "cell_type": "code",
   "execution_count": 2,
   "id": "69d2dffc",
   "metadata": {},
   "outputs": [
    {
     "name": "stdout",
     "output_type": "stream",
     "text": [
      "mo pyt\n"
     ]
    }
   ],
   "source": [
    "# -3 is exclusive here\n",
    "x=\"demo python\"\n",
    "print(x[-9:-3])"
   ]
  },
  {
   "cell_type": "code",
   "execution_count": 70,
   "id": "68895ee8",
   "metadata": {},
   "outputs": [
    {
     "data": {
      "text/plain": [
       "'?sorSo h'"
      ]
     },
     "execution_count": 70,
     "metadata": {},
     "output_type": "execute_result"
    }
   ],
   "source": [
    "x=\"Why So Serious ?\"\n",
    "x[::-2]"
   ]
  },
  {
   "cell_type": "code",
   "execution_count": 78,
   "id": "6df024e9",
   "metadata": {},
   "outputs": [
    {
     "data": {
      "text/plain": [
       "'hon'"
      ]
     },
     "execution_count": 78,
     "metadata": {},
     "output_type": "execute_result"
    }
   ],
   "source": [
    "x=\"DemoPython\"\n",
    "x[-3:]"
   ]
  },
  {
   "cell_type": "code",
   "execution_count": 79,
   "id": "a4651aab",
   "metadata": {},
   "outputs": [
    {
     "data": {
      "text/plain": [
       "'omeD'"
      ]
     },
     "execution_count": 79,
     "metadata": {},
     "output_type": "execute_result"
    }
   ],
   "source": [
    "u=\"Demo\"\n",
    "u[: : -1]"
   ]
  },
  {
   "cell_type": "code",
   "execution_count": 4,
   "id": "98fb38b1",
   "metadata": {},
   "outputs": [
    {
     "data": {
      "text/plain": [
       "'Hello everyone in the World'"
      ]
     },
     "execution_count": 4,
     "metadata": {},
     "output_type": "execute_result"
    }
   ],
   "source": [
    "s1 = \"Hello\"\n",
    "s2 = \"World\"\n",
    "s1 +\" everyone in the \"+s2"
   ]
  },
  {
   "cell_type": "code",
   "execution_count": 26,
   "id": "41e7aa84",
   "metadata": {},
   "outputs": [
    {
     "name": "stdout",
     "output_type": "stream",
     "text": [
      "   Batman  \n",
      "   TheBatman  \n"
     ]
    }
   ],
   "source": [
    "x= \"   The   \"\n",
    "y= \"   Batman  \"\n",
    "print(y)\n",
    "print(x.rstrip()+y.lstrip())"
   ]
  },
  {
   "cell_type": "code",
   "execution_count": 5,
   "id": "6542e244",
   "metadata": {},
   "outputs": [
    {
     "name": "stdout",
     "output_type": "stream",
     "text": [
      "The Batman's Batpod\n"
     ]
    }
   ],
   "source": [
    "print('The Batman\\'s Batpod') # If using double quotes no problem "
   ]
  },
  {
   "cell_type": "code",
   "execution_count": 37,
   "id": "bab4ff64",
   "metadata": {},
   "outputs": [
    {
     "name": "stdout",
     "output_type": "stream",
     "text": [
      "Ada Lovelace\n"
     ]
    }
   ],
   "source": [
    "name = \"ada lovelace\"\n",
    "print(name.title())"
   ]
  },
  {
   "cell_type": "code",
   "execution_count": 6,
   "id": "752162d3",
   "metadata": {},
   "outputs": [
    {
     "name": "stdout",
     "output_type": "stream",
     "text": [
      "Demo\n",
      "Demo\n",
      "o\n"
     ]
    }
   ],
   "source": [
    "# \\n has to be counted while indexing\n",
    "s = \"Demo\\nDemo\"\n",
    "print(s)\n",
    "print(s[-6])"
   ]
  },
  {
   "cell_type": "code",
   "execution_count": 41,
   "id": "9e767ec4",
   "metadata": {},
   "outputs": [
    {
     "data": {
      "text/plain": [
       "list"
      ]
     },
     "execution_count": 41,
     "metadata": {},
     "output_type": "execute_result"
    }
   ],
   "source": [
    "i_am=[1,2,3,4,5,6,'krishna vamsi',[9,7,2,0,0,3,972003]]\n",
    "type(i_am)"
   ]
  },
  {
   "cell_type": "code",
   "execution_count": 49,
   "id": "1f379de2",
   "metadata": {},
   "outputs": [
    {
     "name": "stdout",
     "output_type": "stream",
     "text": [
      "[2, 3, 1, 3, 1]\n"
     ]
    }
   ],
   "source": [
    "list =[2,3,1,3,1]\n",
    "print(list)"
   ]
  },
  {
   "cell_type": "code",
   "execution_count": 45,
   "id": "f725e407",
   "metadata": {},
   "outputs": [
    {
     "name": "stdout",
     "output_type": "stream",
     "text": [
      "['False', 'None', 'True', '__peg_parser__', 'and', 'as', 'assert', 'async', 'await', 'break', 'class', 'continue', 'def', 'del', 'elif', 'else', 'except', 'finally', 'for', 'from', 'global', 'if', 'import', 'in', 'is', 'lambda', 'nonlocal', 'not', 'or', 'pass', 'raise', 'return', 'try', 'while', 'with', 'yield']\n"
     ]
    }
   ],
   "source": [
    "import keyword\n",
    "print(keyword.kwlist)"
   ]
  },
  {
   "cell_type": "code",
   "execution_count": 53,
   "id": "7178e562",
   "metadata": {},
   "outputs": [
    {
     "name": "stdout",
     "output_type": "stream",
     "text": [
      "[1, 2, 3, 4, 'Joker', [7, 8]]\n"
     ]
    }
   ],
   "source": [
    "mylist=[1,2,3,4,\"Joker\",[7,8]]\n",
    "print(mylist)"
   ]
  },
  {
   "cell_type": "code",
   "execution_count": 101,
   "id": "55837c38",
   "metadata": {},
   "outputs": [
    {
     "name": "stdout",
     "output_type": "stream",
     "text": [
      "['n', 7, 78, 'Uuyvyv']\n"
     ]
    }
   ],
   "source": [
    "x=['python',7,78,\"Uuyvyv\"]\n",
    "x[0]='n'\n",
    "print(x)"
   ]
  },
  {
   "cell_type": "code",
   "execution_count": 7,
   "id": "8419d3c2",
   "metadata": {},
   "outputs": [
    {
     "name": "stdout",
     "output_type": "stream",
     "text": [
      "['Python', 'cannondale', 'redline']\n",
      "PYTHON\n"
     ]
    }
   ],
   "source": [
    "bicycles = [\"Python\" , 'cannondale' , 'redline',\"specialized\"]\n",
    "x2 = bicycles[0:3]\n",
    "print(x2)\n",
    "print(bicycles[0].upper())"
   ]
  },
  {
   "cell_type": "code",
   "execution_count": 71,
   "id": "2e54a906",
   "metadata": {},
   "outputs": [
    {
     "name": "stdout",
     "output_type": "stream",
     "text": [
      "['Roadmaster']\n"
     ]
    }
   ],
   "source": [
    "bikes = [\"Ducati\" , \"Harley-Davidson\" , \"Roadmaster\" ,\"BMW\" , \"Royal Enfield\"]\n",
    "x = bikes[2:3] # Here 3 is exclusive\n",
    "print(x)"
   ]
  },
  {
   "cell_type": "code",
   "execution_count": 72,
   "id": "56ee3510",
   "metadata": {},
   "outputs": [
    {
     "name": "stdout",
     "output_type": "stream",
     "text": [
      "['Apple', [4, 5, 6], 'Redmi', 'Oppo', 'Vivo']\n"
     ]
    }
   ],
   "source": [
    "mobile_companies = ['Apple' , 'Samsung' ,'Redmi' ,'Oppo' ,'Vivo']\n",
    "mobile_companies[1] = [4,5,6]\n",
    "print(mobile_companies)"
   ]
  },
  {
   "cell_type": "code",
   "execution_count": 86,
   "id": "cc01d853",
   "metadata": {},
   "outputs": [
    {
     "name": "stdout",
     "output_type": "stream",
     "text": [
      "['Apple', 'Samsung', 'Redmi', 'Oppo']\n"
     ]
    }
   ],
   "source": [
    "mobile_companies = ['Apple' , 'Samsung' ,'Redmi' ,'Oppo' ,'Vivo']\n",
    "popped_mobile = mobile_companies.pop()\n",
    "print(mobile_companies)"
   ]
  },
  {
   "cell_type": "code",
   "execution_count": 8,
   "id": "2bb772c6",
   "metadata": {},
   "outputs": [
    {
     "name": "stdout",
     "output_type": "stream",
     "text": [
      "['Sony', 'Apple', 'Samsung', 'Redmi', 'Oppo', 'Vivo']\n",
      "nokia\n"
     ]
    }
   ],
   "source": [
    "mobile_companies = ['Sony', 'Apple','Samsung', 'Redmi', 'Oppo', 'Vivo', 'nokia']\n",
    "popped_mobile = mobile_companies.pop()\n",
    "print(mobile_companies)\n",
    "print(popped_mobile)"
   ]
  },
  {
   "cell_type": "code",
   "execution_count": 9,
   "id": "1b2ed2c8",
   "metadata": {},
   "outputs": [
    {
     "name": "stdout",
     "output_type": "stream",
     "text": [
      "['ducati', 'harley-Davidson', 'roadmaster', 'bMW', 'royal Enfield', 'bMW']\n",
      "3\n",
      "2\n"
     ]
    }
   ],
   "source": [
    "bikes = [\"ducati\" , \"harley-Davidson\" , \"roadmaster\" ,\"bMW\" , \"royal Enfield\"]\n",
    "bikes.append('bMW')\n",
    "print(bikes)\n",
    "print(bikes.index(\"bMW\"))\n",
    "print(bikes.count(\"bMW\"))"
   ]
  },
  {
   "cell_type": "code",
   "execution_count": 13,
   "id": "608f4f0f",
   "metadata": {},
   "outputs": [
    {
     "name": "stdout",
     "output_type": "stream",
     "text": [
      "['harley-Davidson', 'fsvs', 'ducati', 'a']\n"
     ]
    }
   ],
   "source": [
    "bikes = [\"ducati\" , \"harley-Davidson\",\"fsvs\",\"a\"]\n",
    "bikes.sort(reverse=True)\n",
    "print(bikes)"
   ]
  }
 ],
 "metadata": {
  "kernelspec": {
   "display_name": "Python 3 (ipykernel)",
   "language": "python",
   "name": "python3"
  },
  "language_info": {
   "codemirror_mode": {
    "name": "ipython",
    "version": 3
   },
   "file_extension": ".py",
   "mimetype": "text/x-python",
   "name": "python",
   "nbconvert_exporter": "python",
   "pygments_lexer": "ipython3",
   "version": "3.9.7"
  }
 },
 "nbformat": 4,
 "nbformat_minor": 5
}
