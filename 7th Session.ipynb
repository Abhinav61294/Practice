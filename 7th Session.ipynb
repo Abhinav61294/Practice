{
 "cells": [
  {
   "cell_type": "code",
   "execution_count": 6,
   "id": "f0abca53",
   "metadata": {},
   "outputs": [
    {
     "name": "stdout",
     "output_type": "stream",
     "text": [
      "Hello,  1 !\n",
      "<class 'int'>\n",
      "Hello,  daman !\n",
      "<class 'str'>\n"
     ]
    }
   ],
   "source": [
    "def greet_user(username123):\n",
    "    print(\"Hello, \" ,username123,\"!\" )\n",
    "    print(type(username123))\n",
    "\n",
    "greet_user(1)\n",
    "greet_user(\"daman\")"
   ]
  },
  {
   "cell_type": "code",
   "execution_count": 7,
   "id": "70bdb639",
   "metadata": {},
   "outputs": [
    {
     "name": "stdout",
     "output_type": "stream",
     "text": [
      "a:  1 !\n",
      "b:  2 !\n",
      "a:  daman !\n",
      "b:  2 !\n"
     ]
    }
   ],
   "source": [
    "def greet_user(a,b):\n",
    "    print(\"a: \" ,a,\"!\")\n",
    "    print(\"b: \" ,b,\"!\")\n",
    "\n",
    "greet_user(1,2)\n",
    "greet_user(\"daman\",2)"
   ]
  },
  {
   "cell_type": "code",
   "execution_count": 1,
   "id": "23d291f9",
   "metadata": {},
   "outputs": [
    {
     "name": "stdout",
     "output_type": "stream",
     "text": [
      "\n",
      "I have a hamster.\n",
      "My hamster's name is Harry.\n"
     ]
    }
   ],
   "source": [
    "#keyword argument.\n",
    "def describe_pet(animal_type, pet_name):\n",
    " \"\"\"Display information about a pet.\"\"\"\n",
    " print(\"\\nI have a \" + animal_type + \".\")\n",
    " print(\"My \" + animal_type + \"'s name is \" + pet_name.title() + \".\")\n",
    " \n",
    "describe_pet(animal_type='hamster', pet_name='harry')"
   ]
  },
  {
   "cell_type": "code",
   "execution_count": 2,
   "id": "40cc04c2",
   "metadata": {},
   "outputs": [
    {
     "name": "stdout",
     "output_type": "stream",
     "text": [
      "\n",
      "I have a harry.\n",
      "My harry's name is Hamster.\n"
     ]
    }
   ],
   "source": [
    "#Order matters.\n",
    "def describe_pet(animal_type, pet_name):\n",
    " \"\"\"Display information about a pet.\"\"\"\n",
    " print(\"\\nI have a \" + animal_type + \".\")\n",
    " print(\"My \" + animal_type + \"'s name is \" + pet_name.title() + \".\")\n",
    " \n",
    "describe_pet('harry', 'hamster')"
   ]
  },
  {
   "cell_type": "code",
   "execution_count": 3,
   "id": "a9e544b3",
   "metadata": {},
   "outputs": [
    {
     "name": "stdout",
     "output_type": "stream",
     "text": [
      "\n",
      "I have a hamster.\n",
      "My hamster's name is Harry.\n",
      "\n",
      "I have a dog.\n",
      "My dog's name is Willie.\n"
     ]
    }
   ],
   "source": [
    "#multiple function calls.\n",
    "\n",
    "def describe_pet(animal_type, pet_name):\n",
    " \"\"\"Display information about a pet.\"\"\"\n",
    " print(\"\\nI have a \" + animal_type + \".\")\n",
    " print(\"My \" + animal_type + \"'s name is \" + pet_name.title() + \".\")\n",
    " \n",
    "describe_pet('hamster', 'harry')\n",
    "describe_pet('dog', 'willie')"
   ]
  },
  {
   "cell_type": "code",
   "execution_count": 6,
   "id": "942fd7c5",
   "metadata": {},
   "outputs": [
    {
     "name": "stdout",
     "output_type": "stream",
     "text": [
      "\n",
      "I have a hamster.\n",
      "My hamster's name is Harry.\n"
     ]
    }
   ],
   "source": [
    "#positional argument.\n",
    "\n",
    "def describe_pet(animal_type, pet_name):\n",
    " \"\"\"Display information about a pet.\"\"\"\n",
    " print(\"\\nI have a \" + animal_type + \".\")\n",
    " print(\"My \" + animal_type + \"'s name is \" + pet_name.title() + \".\")\n",
    " \n",
    "describe_pet('hamster', 'harry')"
   ]
  },
  {
   "cell_type": "code",
   "execution_count": 12,
   "id": "1973df3f",
   "metadata": {},
   "outputs": [
    {
     "name": "stdout",
     "output_type": "stream",
     "text": [
      "5\n"
     ]
    }
   ],
   "source": [
    "def demo(x):\n",
    "    print(x)\n",
    "\n",
    "demo(x=5)"
   ]
  },
  {
   "cell_type": "code",
   "execution_count": 25,
   "id": "18aeb10e",
   "metadata": {},
   "outputs": [
    {
     "name": "stdout",
     "output_type": "stream",
     "text": [
      "1\n",
      "2\n",
      "10\n"
     ]
    }
   ],
   "source": [
    "def demo(a,b,c=10):\n",
    "    print(a)\n",
    "    print(b)\n",
    "    print(c)\n",
    "demo(1,2)"
   ]
  },
  {
   "cell_type": "code",
   "execution_count": 32,
   "id": "d3f79854",
   "metadata": {},
   "outputs": [
    {
     "name": "stdout",
     "output_type": "stream",
     "text": [
      "Before 5\n",
      "8\n",
      "After 8\n"
     ]
    }
   ],
   "source": [
    "def modify_x(x):\n",
    "    x=x+3\n",
    "    print(x)\n",
    "    return x\n",
    "x=5\n",
    "print(\"Before\",x)\n",
    "X=modify_x(x)\n",
    "print(\"After\",X)"
   ]
  },
  {
   "cell_type": "code",
   "execution_count": 46,
   "id": "5bfbd9bc",
   "metadata": {},
   "outputs": [
    {
     "name": "stdout",
     "output_type": "stream",
     "text": [
      "25\n",
      "125\n"
     ]
    }
   ],
   "source": [
    "#more than one\n",
    "def sqANDcubes(x):\n",
    "    sq=x**2\n",
    "    cubes=x**3\n",
    "    return (sq,cubes)\n",
    "x=5\n",
    "sq,cubes=sqANDcubes(x)\n",
    "print(sq)\n",
    "print(cubes)"
   ]
  }
 ],
 "metadata": {
  "kernelspec": {
   "display_name": "Python 3 (ipykernel)",
   "language": "python",
   "name": "python3"
  },
  "language_info": {
   "codemirror_mode": {
    "name": "ipython",
    "version": 3
   },
   "file_extension": ".py",
   "mimetype": "text/x-python",
   "name": "python",
   "nbconvert_exporter": "python",
   "pygments_lexer": "ipython3",
   "version": "3.9.7"
  }
 },
 "nbformat": 4,
 "nbformat_minor": 5
}
