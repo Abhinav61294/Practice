{
 "cells": [
  {
   "cell_type": "code",
   "execution_count": null,
   "id": "49203d48",
   "metadata": {},
   "outputs": [],
   "source": [
    "23==23.0"
   ]
  },
  {
   "cell_type": "code",
   "execution_count": null,
   "id": "97cc0a48",
   "metadata": {},
   "outputs": [],
   "source": [
    "x=\"cr7\"\n",
    "y=\"Cr7\"\n",
    "x.lower()==y.lower()"
   ]
  },
  {
   "cell_type": "code",
   "execution_count": null,
   "id": "4c25ab31",
   "metadata": {},
   "outputs": [],
   "source": [
    "x=\"\"\n",
    "if x :\n",
    "    print(\"true\")\n",
    "else:\n",
    "    print(\"false\")"
   ]
  },
  {
   "cell_type": "code",
   "execution_count": null,
   "id": "55153d23",
   "metadata": {},
   "outputs": [],
   "source": [
    "lst = [1 ,2, 3 , 4 , 5]\n",
    "\n",
    "for num in lst:\n",
    "    if num == 3:\n",
    "        break\n",
    "    print(num)\n"
   ]
  },
  {
   "cell_type": "code",
   "execution_count": null,
   "id": "4d5b9062",
   "metadata": {},
   "outputs": [],
   "source": [
    "lst = [\"a\" ,\"b\", \"c\" , \"d\" , \"e\"]\n",
    "\n",
    "for num in lst:\n",
    "    if num >= \"c\":\n",
    "        break\n",
    "    print(num)\n"
   ]
  },
  {
   "cell_type": "code",
   "execution_count": null,
   "id": "ddb08218",
   "metadata": {},
   "outputs": [],
   "source": [
    "days = [\"Sunday\" , \"Monday\" ,\"Tuesday\" ,\"Wednesday\" ,\"Thursday\" ,\"Friday\" ,\"Saturday\"]\n",
    "\n",
    "x = 0\n",
    "\n",
    "while x < len(days):\n",
    "    print(days[x])\n",
    "    x +=1\n",
    "    if x == 3:\n",
    "        break\n",
    "\n",
    "else:\n",
    "    print(\"Hurray! Week Completed \")"
   ]
  },
  {
   "cell_type": "code",
   "execution_count": null,
   "id": "05a0add7",
   "metadata": {},
   "outputs": [],
   "source": [
    "num = int(input(\"Enter the number\"))\n",
    "\n",
    "i = 2\n",
    "while i <= num/2:\n",
    "    if num % i == 0:\n",
    "        print(num , \"is not a prime number\")\n",
    "        break\n",
    "    i +=1\n",
    "else:\n",
    "    print(num, \"is a prime number\")\n",
    "    "
   ]
  },
  {
   "cell_type": "code",
   "execution_count": 2,
   "id": "5f40c3a6",
   "metadata": {},
   "outputs": [
    {
     "name": "stdout",
     "output_type": "stream",
     "text": [
      "The Number1\n",
      "prime\n"
     ]
    }
   ],
   "source": [
    "num =int(input(\"The Number\"))\n",
    "i=2\n",
    "while i <= num/2:\n",
    "    if num%i ==0:\n",
    "        print(\"not prime\")\n",
    "        break\n",
    "    i+=1\n",
    "else:\n",
    "    \n",
    "    print(\"prime\")\n",
    "    "
   ]
  },
  {
   "cell_type": "code",
   "execution_count": null,
   "id": "5d4de14f",
   "metadata": {},
   "outputs": [],
   "source": []
  },
  {
   "cell_type": "code",
   "execution_count": null,
   "id": "08593c68",
   "metadata": {},
   "outputs": [],
   "source": []
  }
 ],
 "metadata": {
  "kernelspec": {
   "display_name": "Python 3 (ipykernel)",
   "language": "python",
   "name": "python3"
  },
  "language_info": {
   "codemirror_mode": {
    "name": "ipython",
    "version": 3
   },
   "file_extension": ".py",
   "mimetype": "text/x-python",
   "name": "python",
   "nbconvert_exporter": "python",
   "pygments_lexer": "ipython3",
   "version": "3.9.7"
  }
 },
 "nbformat": 4,
 "nbformat_minor": 5
}
