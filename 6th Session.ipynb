{
 "cells": [
  {
   "cell_type": "code",
   "execution_count": 1,
   "id": "49203d48",
   "metadata": {},
   "outputs": [
    {
     "data": {
      "text/plain": [
       "True"
      ]
     },
     "execution_count": 1,
     "metadata": {},
     "output_type": "execute_result"
    }
   ],
   "source": [
    "23==23.0"
   ]
  },
  {
   "cell_type": "code",
   "execution_count": 2,
   "id": "97cc0a48",
   "metadata": {},
   "outputs": [
    {
     "data": {
      "text/plain": [
       "True"
      ]
     },
     "execution_count": 2,
     "metadata": {},
     "output_type": "execute_result"
    }
   ],
   "source": [
    "x=\"cr7\"\n",
    "y=\"Cr7\"\n",
    "x.lower()==y.lower()"
   ]
  },
  {
   "cell_type": "code",
   "execution_count": 3,
   "id": "4c25ab31",
   "metadata": {},
   "outputs": [
    {
     "name": "stdout",
     "output_type": "stream",
     "text": [
      "false\n"
     ]
    }
   ],
   "source": [
    "x=\"\"\n",
    "if x :\n",
    "    print(\"true\")\n",
    "else:\n",
    "    print(\"false\")"
   ]
  },
  {
   "cell_type": "code",
   "execution_count": 4,
   "id": "55153d23",
   "metadata": {},
   "outputs": [
    {
     "name": "stdout",
     "output_type": "stream",
     "text": [
      "1\n",
      "2\n"
     ]
    }
   ],
   "source": [
    "lst = [1 ,2, 3 , 4 , 5]\n",
    "\n",
    "for num in lst:\n",
    "    if num == 3:\n",
    "        break\n",
    "    print(num)"
   ]
  },
  {
   "cell_type": "code",
   "execution_count": 5,
   "id": "4d5b9062",
   "metadata": {},
   "outputs": [
    {
     "name": "stdout",
     "output_type": "stream",
     "text": [
      "a\n",
      "b\n"
     ]
    }
   ],
   "source": [
    "lst = [\"a\" ,\"b\", \"c\" , \"d\" , \"e\"]\n",
    "\n",
    "for num in lst:\n",
    "    if num >= \"c\":\n",
    "        break\n",
    "    print(num)"
   ]
  },
  {
   "cell_type": "code",
   "execution_count": 6,
   "id": "ddb08218",
   "metadata": {},
   "outputs": [
    {
     "name": "stdout",
     "output_type": "stream",
     "text": [
      "Sunday\n",
      "Monday\n",
      "Tuesday\n"
     ]
    }
   ],
   "source": [
    "days = [\"Sunday\" , \"Monday\" ,\"Tuesday\" ,\"Wednesday\" ,\"Thursday\" ,\"Friday\" ,\"Saturday\"]\n",
    "\n",
    "x = 0\n",
    "\n",
    "while x < len(days):\n",
    "    print(days[x])\n",
    "    x +=1\n",
    "    if x == 3:\n",
    "        break\n",
    "\n",
    "else:\n",
    "    print(\"Hurray! Week Completed \")"
   ]
  }
 ],
 "metadata": {
  "kernelspec": {
   "display_name": "Python 3 (ipykernel)",
   "language": "python",
   "name": "python3"
  },
  "language_info": {
   "codemirror_mode": {
    "name": "ipython",
    "version": 3
   },
   "file_extension": ".py",
   "mimetype": "text/x-python",
   "name": "python",
   "nbconvert_exporter": "python",
   "pygments_lexer": "ipython3",
   "version": "3.9.7"
  }
 },
 "nbformat": 4,
 "nbformat_minor": 5
}
