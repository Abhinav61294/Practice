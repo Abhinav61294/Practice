{
 "cells": [
  {
   "cell_type": "code",
   "execution_count": 1,
   "id": "0292fddc",
   "metadata": {
    "scrolled": true
   },
   "outputs": [
    {
     "name": "stdout",
     "output_type": "stream",
     "text": [
      "<class '__main__.sample123'>\n"
     ]
    }
   ],
   "source": [
    "class sample123:\n",
    "    pass\n",
    "x=sample123()\n",
    "print(type(x))"
   ]
  },
  {
   "cell_type": "code",
   "execution_count": 2,
   "id": "07805d9c",
   "metadata": {},
   "outputs": [
    {
     "name": "stdout",
     "output_type": "stream",
     "text": [
      "Welcome\n",
      "pug\n"
     ]
    }
   ],
   "source": [
    "print(\"Welcome\")\n",
    "\n",
    "class Dog:\n",
    "    def __init__(self, breed=\"pug\"):\n",
    "       self.breed = breed\n",
    "        \n",
    "snow = Dog()\n",
    "print(snow.breed)"
   ]
  },
  {
   "cell_type": "code",
   "execution_count": 1,
   "id": "1ed0a2a0",
   "metadata": {},
   "outputs": [
    {
     "name": "stdout",
     "output_type": "stream",
     "text": [
      "Welcome\n",
      "pug\n"
     ]
    }
   ],
   "source": [
    "print(\"Welcome\")\n",
    "\n",
    "class Dog:\n",
    "    def __init__(self, breed):\n",
    "       self.breed = breed\n",
    "        \n",
    "snow = Dog(\"pug\")\n",
    "print(snow.breed)"
   ]
  },
  {
   "cell_type": "code",
   "execution_count": null,
   "id": "483e2857",
   "metadata": {},
   "outputs": [],
   "source": []
  }
 ],
 "metadata": {
  "kernelspec": {
   "display_name": "Python 3 (ipykernel)",
   "language": "python",
   "name": "python3"
  },
  "language_info": {
   "codemirror_mode": {
    "name": "ipython",
    "version": 3
   },
   "file_extension": ".py",
   "mimetype": "text/x-python",
   "name": "python",
   "nbconvert_exporter": "python",
   "pygments_lexer": "ipython3",
   "version": "3.9.7"
  }
 },
 "nbformat": 4,
 "nbformat_minor": 5
}
